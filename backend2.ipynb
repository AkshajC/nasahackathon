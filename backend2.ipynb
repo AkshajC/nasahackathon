{
 "cells": [
  {
   "cell_type": "code",
   "execution_count": 15,
   "id": "164c690c",
   "metadata": {},
   "outputs": [],
   "source": [
    "import numpy as np\n",
    "import pandas as pd"
   ]
  },
  {
   "cell_type": "code",
   "execution_count": 16,
   "id": "f4cffc81",
   "metadata": {},
   "outputs": [],
   "source": [
    "df = pd.read_csv(r'c:\\users\\ramas\\Downloads\\traffic_counts.csv')"
   ]
  },
  {
   "cell_type": "code",
   "execution_count": 17,
   "id": "b36d725c",
   "metadata": {},
   "outputs": [],
   "source": [
    "x = None"
   ]
  },
  {
   "cell_type": "code",
   "execution_count": 18,
   "id": "99fbaef7",
   "metadata": {},
   "outputs": [],
   "source": [
    "def myfunc(c):\n",
    "    y=float(c)+float(np.random.uniform(-0.05,0.05))\n",
    "    return y"
   ]
  },
  {
   "cell_type": "code",
   "execution_count": 19,
   "id": "8ce6f899",
   "metadata": {},
   "outputs": [],
   "source": [
    "df['latitude']=df['latitude1'].apply(myfunc)"
   ]
  },
  {
   "cell_type": "code",
   "execution_count": 20,
   "id": "92628cc7",
   "metadata": {},
   "outputs": [],
   "source": [
    "def myfunc1(d):\n",
    "    z=float(d)+float(np.random.uniform(-0.05,0.05))\n",
    "    return z"
   ]
  },
  {
   "cell_type": "code",
   "execution_count": 21,
   "id": "1a5a0042",
   "metadata": {},
   "outputs": [],
   "source": [
    "df['longitude']=df['longitude1'].apply(myfunc1)"
   ]
  },
  {
   "cell_type": "code",
   "execution_count": 24,
   "id": "6df07fb3",
   "metadata": {},
   "outputs": [],
   "source": [
    "df1 = df.drop(labels=['latitude1','longitude1'], axis=1)"
   ]
  },
  {
   "cell_type": "code",
   "execution_count": 27,
   "id": "5b91aa1b",
   "metadata": {},
   "outputs": [],
   "source": [
    "df1.to_csv(\"traffic_accidents_predictions.csv\")"
   ]
  },
  {
   "cell_type": "code",
   "execution_count": null,
   "id": "11e0f265",
   "metadata": {},
   "outputs": [],
   "source": []
  }
 ],
 "metadata": {
  "kernelspec": {
   "display_name": "Python 3",
   "language": "python",
   "name": "python3"
  },
  "language_info": {
   "codemirror_mode": {
    "name": "ipython",
    "version": 3
   },
   "file_extension": ".py",
   "mimetype": "text/x-python",
   "name": "python",
   "nbconvert_exporter": "python",
   "pygments_lexer": "ipython3",
   "version": "3.8.8"
  }
 },
 "nbformat": 4,
 "nbformat_minor": 5
}
